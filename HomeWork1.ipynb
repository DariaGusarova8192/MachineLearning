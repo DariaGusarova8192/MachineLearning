{
 "cells": [
  {
   "cell_type": "markdown",
   "id": "b5a33180",
   "metadata": {},
   "source": [
    "# 0. Описание Задачи\n",
    "### По данным Всемирной организации здравоохранения (ВОЗ), инсульт занимает второе место среди причин смерти в мире, на него приходится около 11% всех смертей. Этот датасет используется для прогнозирования вероятности инсульта у пациента на основе таких входных параметров, как пол, возраст, различные заболевания и статус курения. \n",
    "### Данная задача является бинарной задачей классификации"
   ]
  },
  {
   "cell_type": "code",
   "execution_count": 251,
   "id": "92eba5ca",
   "metadata": {},
   "outputs": [],
   "source": [
    "import numpy as np\n",
    "import matplotlib.pyplot as plt\n",
    "import pandas as pd\n",
    "import seaborn as sns\n",
    "import sklearn\n",
    "%matplotlib inline"
   ]
  },
  {
   "cell_type": "markdown",
   "id": "4a26121a",
   "metadata": {},
   "source": [
    "# 1. Чтение данных"
   ]
  },
  {
   "cell_type": "code",
   "execution_count": 137,
   "id": "acf5893f",
   "metadata": {},
   "outputs": [],
   "source": [
    "url = \"https://raw.githubusercontent.com/DariaGusarova8192/MachineLearning/main/healthcare-dataset-stroke-data.csv\"\n",
    "data_raw = pd.read_csv(url)"
   ]
  },
  {
   "cell_type": "code",
   "execution_count": 138,
   "id": "e5651ec5",
   "metadata": {},
   "outputs": [
    {
     "data": {
      "text/plain": [
       "pandas.core.frame.DataFrame"
      ]
     },
     "execution_count": 138,
     "metadata": {},
     "output_type": "execute_result"
    }
   ],
   "source": [
    "type(data_raw)"
   ]
  },
  {
   "cell_type": "code",
   "execution_count": 139,
   "id": "9ddf9075",
   "metadata": {},
   "outputs": [
    {
     "data": {
      "text/plain": [
       "(5110, 12)"
      ]
     },
     "execution_count": 139,
     "metadata": {},
     "output_type": "execute_result"
    }
   ],
   "source": [
    "data_raw.shape"
   ]
  },
  {
   "cell_type": "code",
   "execution_count": 140,
   "id": "9f965e52",
   "metadata": {},
   "outputs": [
    {
     "data": {
      "text/html": [
       "<div>\n",
       "<style scoped>\n",
       "    .dataframe tbody tr th:only-of-type {\n",
       "        vertical-align: middle;\n",
       "    }\n",
       "\n",
       "    .dataframe tbody tr th {\n",
       "        vertical-align: top;\n",
       "    }\n",
       "\n",
       "    .dataframe thead th {\n",
       "        text-align: right;\n",
       "    }\n",
       "</style>\n",
       "<table border=\"1\" class=\"dataframe\">\n",
       "  <thead>\n",
       "    <tr style=\"text-align: right;\">\n",
       "      <th></th>\n",
       "      <th>id</th>\n",
       "      <th>gender</th>\n",
       "      <th>age</th>\n",
       "      <th>hypertension</th>\n",
       "      <th>heart_disease</th>\n",
       "      <th>ever_married</th>\n",
       "      <th>work_type</th>\n",
       "      <th>Residence_type</th>\n",
       "      <th>avg_glucose_level</th>\n",
       "      <th>bmi</th>\n",
       "      <th>smoking_status</th>\n",
       "      <th>stroke</th>\n",
       "    </tr>\n",
       "  </thead>\n",
       "  <tbody>\n",
       "    <tr>\n",
       "      <th>0</th>\n",
       "      <td>9046</td>\n",
       "      <td>Male</td>\n",
       "      <td>67.0</td>\n",
       "      <td>0</td>\n",
       "      <td>1</td>\n",
       "      <td>Yes</td>\n",
       "      <td>Private</td>\n",
       "      <td>Urban</td>\n",
       "      <td>228.69</td>\n",
       "      <td>36.6</td>\n",
       "      <td>formerly smoked</td>\n",
       "      <td>1</td>\n",
       "    </tr>\n",
       "    <tr>\n",
       "      <th>1</th>\n",
       "      <td>51676</td>\n",
       "      <td>Female</td>\n",
       "      <td>61.0</td>\n",
       "      <td>0</td>\n",
       "      <td>0</td>\n",
       "      <td>Yes</td>\n",
       "      <td>Self-employed</td>\n",
       "      <td>Rural</td>\n",
       "      <td>202.21</td>\n",
       "      <td>NaN</td>\n",
       "      <td>never smoked</td>\n",
       "      <td>1</td>\n",
       "    </tr>\n",
       "    <tr>\n",
       "      <th>2</th>\n",
       "      <td>31112</td>\n",
       "      <td>Male</td>\n",
       "      <td>80.0</td>\n",
       "      <td>0</td>\n",
       "      <td>1</td>\n",
       "      <td>Yes</td>\n",
       "      <td>Private</td>\n",
       "      <td>Rural</td>\n",
       "      <td>105.92</td>\n",
       "      <td>32.5</td>\n",
       "      <td>never smoked</td>\n",
       "      <td>1</td>\n",
       "    </tr>\n",
       "    <tr>\n",
       "      <th>3</th>\n",
       "      <td>60182</td>\n",
       "      <td>Female</td>\n",
       "      <td>49.0</td>\n",
       "      <td>0</td>\n",
       "      <td>0</td>\n",
       "      <td>Yes</td>\n",
       "      <td>Private</td>\n",
       "      <td>Urban</td>\n",
       "      <td>171.23</td>\n",
       "      <td>34.4</td>\n",
       "      <td>smokes</td>\n",
       "      <td>1</td>\n",
       "    </tr>\n",
       "    <tr>\n",
       "      <th>4</th>\n",
       "      <td>1665</td>\n",
       "      <td>Female</td>\n",
       "      <td>79.0</td>\n",
       "      <td>1</td>\n",
       "      <td>0</td>\n",
       "      <td>Yes</td>\n",
       "      <td>Self-employed</td>\n",
       "      <td>Rural</td>\n",
       "      <td>174.12</td>\n",
       "      <td>24.0</td>\n",
       "      <td>never smoked</td>\n",
       "      <td>1</td>\n",
       "    </tr>\n",
       "    <tr>\n",
       "      <th>...</th>\n",
       "      <td>...</td>\n",
       "      <td>...</td>\n",
       "      <td>...</td>\n",
       "      <td>...</td>\n",
       "      <td>...</td>\n",
       "      <td>...</td>\n",
       "      <td>...</td>\n",
       "      <td>...</td>\n",
       "      <td>...</td>\n",
       "      <td>...</td>\n",
       "      <td>...</td>\n",
       "      <td>...</td>\n",
       "    </tr>\n",
       "    <tr>\n",
       "      <th>5105</th>\n",
       "      <td>18234</td>\n",
       "      <td>Female</td>\n",
       "      <td>80.0</td>\n",
       "      <td>1</td>\n",
       "      <td>0</td>\n",
       "      <td>Yes</td>\n",
       "      <td>Private</td>\n",
       "      <td>Urban</td>\n",
       "      <td>83.75</td>\n",
       "      <td>NaN</td>\n",
       "      <td>never smoked</td>\n",
       "      <td>0</td>\n",
       "    </tr>\n",
       "    <tr>\n",
       "      <th>5106</th>\n",
       "      <td>44873</td>\n",
       "      <td>Female</td>\n",
       "      <td>81.0</td>\n",
       "      <td>0</td>\n",
       "      <td>0</td>\n",
       "      <td>Yes</td>\n",
       "      <td>Self-employed</td>\n",
       "      <td>Urban</td>\n",
       "      <td>125.20</td>\n",
       "      <td>40.0</td>\n",
       "      <td>never smoked</td>\n",
       "      <td>0</td>\n",
       "    </tr>\n",
       "    <tr>\n",
       "      <th>5107</th>\n",
       "      <td>19723</td>\n",
       "      <td>Female</td>\n",
       "      <td>35.0</td>\n",
       "      <td>0</td>\n",
       "      <td>0</td>\n",
       "      <td>Yes</td>\n",
       "      <td>Self-employed</td>\n",
       "      <td>Rural</td>\n",
       "      <td>82.99</td>\n",
       "      <td>30.6</td>\n",
       "      <td>never smoked</td>\n",
       "      <td>0</td>\n",
       "    </tr>\n",
       "    <tr>\n",
       "      <th>5108</th>\n",
       "      <td>37544</td>\n",
       "      <td>Male</td>\n",
       "      <td>51.0</td>\n",
       "      <td>0</td>\n",
       "      <td>0</td>\n",
       "      <td>Yes</td>\n",
       "      <td>Private</td>\n",
       "      <td>Rural</td>\n",
       "      <td>166.29</td>\n",
       "      <td>25.6</td>\n",
       "      <td>formerly smoked</td>\n",
       "      <td>0</td>\n",
       "    </tr>\n",
       "    <tr>\n",
       "      <th>5109</th>\n",
       "      <td>44679</td>\n",
       "      <td>Female</td>\n",
       "      <td>44.0</td>\n",
       "      <td>0</td>\n",
       "      <td>0</td>\n",
       "      <td>Yes</td>\n",
       "      <td>Govt_job</td>\n",
       "      <td>Urban</td>\n",
       "      <td>85.28</td>\n",
       "      <td>26.2</td>\n",
       "      <td>NaN</td>\n",
       "      <td>0</td>\n",
       "    </tr>\n",
       "  </tbody>\n",
       "</table>\n",
       "<p>5110 rows × 12 columns</p>\n",
       "</div>"
      ],
      "text/plain": [
       "         id  gender   age  hypertension  heart_disease ever_married  \\\n",
       "0      9046    Male  67.0             0              1          Yes   \n",
       "1     51676  Female  61.0             0              0          Yes   \n",
       "2     31112    Male  80.0             0              1          Yes   \n",
       "3     60182  Female  49.0             0              0          Yes   \n",
       "4      1665  Female  79.0             1              0          Yes   \n",
       "...     ...     ...   ...           ...            ...          ...   \n",
       "5105  18234  Female  80.0             1              0          Yes   \n",
       "5106  44873  Female  81.0             0              0          Yes   \n",
       "5107  19723  Female  35.0             0              0          Yes   \n",
       "5108  37544    Male  51.0             0              0          Yes   \n",
       "5109  44679  Female  44.0             0              0          Yes   \n",
       "\n",
       "          work_type Residence_type  avg_glucose_level   bmi   smoking_status  \\\n",
       "0           Private          Urban             228.69  36.6  formerly smoked   \n",
       "1     Self-employed          Rural             202.21   NaN     never smoked   \n",
       "2           Private          Rural             105.92  32.5     never smoked   \n",
       "3           Private          Urban             171.23  34.4           smokes   \n",
       "4     Self-employed          Rural             174.12  24.0     never smoked   \n",
       "...             ...            ...                ...   ...              ...   \n",
       "5105        Private          Urban              83.75   NaN     never smoked   \n",
       "5106  Self-employed          Urban             125.20  40.0     never smoked   \n",
       "5107  Self-employed          Rural              82.99  30.6     never smoked   \n",
       "5108        Private          Rural             166.29  25.6  formerly smoked   \n",
       "5109       Govt_job          Urban              85.28  26.2              NaN   \n",
       "\n",
       "      stroke  \n",
       "0          1  \n",
       "1          1  \n",
       "2          1  \n",
       "3          1  \n",
       "4          1  \n",
       "...      ...  \n",
       "5105       0  \n",
       "5106       0  \n",
       "5107       0  \n",
       "5108       0  \n",
       "5109       0  \n",
       "\n",
       "[5110 rows x 12 columns]"
      ]
     },
     "execution_count": 140,
     "metadata": {},
     "output_type": "execute_result"
    }
   ],
   "source": [
    "data_raw"
   ]
  },
  {
   "cell_type": "markdown",
   "id": "34abdf64",
   "metadata": {},
   "source": [
    "### Количество случаев - 5110, количество признаков - 12, количество классов - 2 (был у человека инсульт или нет)\n",
    "### Признаки:\n",
    "Id: идентификационный номер пациента\n",
    "\n",
    "Gender: пол пациента\n",
    "\n",
    "Age: возраст пациента\n",
    "\n",
    "Hypertension: есть ли у пациента гипертония\n",
    "\n",
    "Heart Disease: есть ли у пациента проблемы с сердцем\n",
    "\n",
    "Ever Married: был ли пациент женат (замужем)\n",
    "\n",
    "Work Type: тип работы пациента\n",
    "\n",
    "Residense Type: где проживает пациент\n",
    "\n",
    "Awd Glucose Level: Общий уровень глюкозы у пациента\n",
    "\n",
    "BMI: индекс массы тела пациента\n",
    "\n",
    "Smoking Status: курит ли пациент\n",
    "\n",
    "Stroke: был ли у пациента инсульт"
   ]
  },
  {
   "cell_type": "markdown",
   "id": "1835e6f4",
   "metadata": {},
   "source": [
    "### Признаки Id, Age, Awd Glucose Level, BMI - числовые признаки\n",
    "\n",
    "### Признаки Gender, Hypertension, Heart Disease, Ever Married, Stroke, Residense Type - бинарные признаки\n",
    "\n",
    "### Признаки Work Type, Smoking Status - категориальные признаки"
   ]
  },
  {
   "cell_type": "markdown",
   "id": "77e182e6",
   "metadata": {},
   "source": [
    "Присвоим категориальный тип столбцам, содержащим категориальные и бинарные нечисловые (для корректного заполнения пропусков) типы:"
   ]
  },
  {
   "cell_type": "code",
   "execution_count": 141,
   "id": "8390ad6f",
   "metadata": {},
   "outputs": [],
   "source": [
    "data_raw['gender'] = data_raw['gender'].astype('category')\n",
    "data_raw['ever_married'] = data_raw['ever_married'].astype('category')\n",
    "data_raw['work_type'] = data_raw['work_type'].astype('category')\n",
    "data_raw['Residence_type'] = data_raw['Residence_type'].astype('category')\n",
    "data_raw['smoking_status'] = data_raw['smoking_status'].astype('category')"
   ]
  },
  {
   "cell_type": "markdown",
   "id": "081d7381",
   "metadata": {},
   "source": [
    "# 2. Визуализация данных и вычисление основных характеристик"
   ]
  },
  {
   "cell_type": "code",
   "execution_count": 142,
   "id": "fbf0c25f",
   "metadata": {},
   "outputs": [
    {
     "data": {
      "text/html": [
       "<div>\n",
       "<style scoped>\n",
       "    .dataframe tbody tr th:only-of-type {\n",
       "        vertical-align: middle;\n",
       "    }\n",
       "\n",
       "    .dataframe tbody tr th {\n",
       "        vertical-align: top;\n",
       "    }\n",
       "\n",
       "    .dataframe thead th {\n",
       "        text-align: right;\n",
       "    }\n",
       "</style>\n",
       "<table border=\"1\" class=\"dataframe\">\n",
       "  <thead>\n",
       "    <tr style=\"text-align: right;\">\n",
       "      <th></th>\n",
       "      <th>id</th>\n",
       "      <th>age</th>\n",
       "      <th>hypertension</th>\n",
       "      <th>heart_disease</th>\n",
       "      <th>avg_glucose_level</th>\n",
       "      <th>bmi</th>\n",
       "      <th>stroke</th>\n",
       "    </tr>\n",
       "  </thead>\n",
       "  <tbody>\n",
       "    <tr>\n",
       "      <th>count</th>\n",
       "      <td>5110.000000</td>\n",
       "      <td>5110.000000</td>\n",
       "      <td>5110.000000</td>\n",
       "      <td>5110.000000</td>\n",
       "      <td>5110.000000</td>\n",
       "      <td>4909.000000</td>\n",
       "      <td>5110.000000</td>\n",
       "    </tr>\n",
       "    <tr>\n",
       "      <th>mean</th>\n",
       "      <td>36517.829354</td>\n",
       "      <td>43.226614</td>\n",
       "      <td>0.097456</td>\n",
       "      <td>0.054012</td>\n",
       "      <td>106.147677</td>\n",
       "      <td>28.893237</td>\n",
       "      <td>0.048728</td>\n",
       "    </tr>\n",
       "    <tr>\n",
       "      <th>std</th>\n",
       "      <td>21161.721625</td>\n",
       "      <td>22.612647</td>\n",
       "      <td>0.296607</td>\n",
       "      <td>0.226063</td>\n",
       "      <td>45.283560</td>\n",
       "      <td>7.854067</td>\n",
       "      <td>0.215320</td>\n",
       "    </tr>\n",
       "    <tr>\n",
       "      <th>min</th>\n",
       "      <td>67.000000</td>\n",
       "      <td>0.080000</td>\n",
       "      <td>0.000000</td>\n",
       "      <td>0.000000</td>\n",
       "      <td>55.120000</td>\n",
       "      <td>10.300000</td>\n",
       "      <td>0.000000</td>\n",
       "    </tr>\n",
       "    <tr>\n",
       "      <th>25%</th>\n",
       "      <td>17741.250000</td>\n",
       "      <td>25.000000</td>\n",
       "      <td>0.000000</td>\n",
       "      <td>0.000000</td>\n",
       "      <td>77.245000</td>\n",
       "      <td>23.500000</td>\n",
       "      <td>0.000000</td>\n",
       "    </tr>\n",
       "    <tr>\n",
       "      <th>50%</th>\n",
       "      <td>36932.000000</td>\n",
       "      <td>45.000000</td>\n",
       "      <td>0.000000</td>\n",
       "      <td>0.000000</td>\n",
       "      <td>91.885000</td>\n",
       "      <td>28.100000</td>\n",
       "      <td>0.000000</td>\n",
       "    </tr>\n",
       "    <tr>\n",
       "      <th>75%</th>\n",
       "      <td>54682.000000</td>\n",
       "      <td>61.000000</td>\n",
       "      <td>0.000000</td>\n",
       "      <td>0.000000</td>\n",
       "      <td>114.090000</td>\n",
       "      <td>33.100000</td>\n",
       "      <td>0.000000</td>\n",
       "    </tr>\n",
       "    <tr>\n",
       "      <th>max</th>\n",
       "      <td>72940.000000</td>\n",
       "      <td>82.000000</td>\n",
       "      <td>1.000000</td>\n",
       "      <td>1.000000</td>\n",
       "      <td>271.740000</td>\n",
       "      <td>97.600000</td>\n",
       "      <td>1.000000</td>\n",
       "    </tr>\n",
       "  </tbody>\n",
       "</table>\n",
       "</div>"
      ],
      "text/plain": [
       "                 id          age  hypertension  heart_disease  \\\n",
       "count   5110.000000  5110.000000   5110.000000    5110.000000   \n",
       "mean   36517.829354    43.226614      0.097456       0.054012   \n",
       "std    21161.721625    22.612647      0.296607       0.226063   \n",
       "min       67.000000     0.080000      0.000000       0.000000   \n",
       "25%    17741.250000    25.000000      0.000000       0.000000   \n",
       "50%    36932.000000    45.000000      0.000000       0.000000   \n",
       "75%    54682.000000    61.000000      0.000000       0.000000   \n",
       "max    72940.000000    82.000000      1.000000       1.000000   \n",
       "\n",
       "       avg_glucose_level          bmi       stroke  \n",
       "count        5110.000000  4909.000000  5110.000000  \n",
       "mean          106.147677    28.893237     0.048728  \n",
       "std            45.283560     7.854067     0.215320  \n",
       "min            55.120000    10.300000     0.000000  \n",
       "25%            77.245000    23.500000     0.000000  \n",
       "50%            91.885000    28.100000     0.000000  \n",
       "75%           114.090000    33.100000     0.000000  \n",
       "max           271.740000    97.600000     1.000000  "
      ]
     },
     "execution_count": 142,
     "metadata": {},
     "output_type": "execute_result"
    }
   ],
   "source": [
    "data_raw.describe()"
   ]
  },
  {
   "cell_type": "code",
   "execution_count": 143,
   "id": "bb8b4528",
   "metadata": {},
   "outputs": [
    {
     "data": {
      "text/html": [
       "<div>\n",
       "<style scoped>\n",
       "    .dataframe tbody tr th:only-of-type {\n",
       "        vertical-align: middle;\n",
       "    }\n",
       "\n",
       "    .dataframe tbody tr th {\n",
       "        vertical-align: top;\n",
       "    }\n",
       "\n",
       "    .dataframe thead th {\n",
       "        text-align: right;\n",
       "    }\n",
       "</style>\n",
       "<table border=\"1\" class=\"dataframe\">\n",
       "  <thead>\n",
       "    <tr style=\"text-align: right;\">\n",
       "      <th></th>\n",
       "      <th>gender</th>\n",
       "      <th>ever_married</th>\n",
       "      <th>work_type</th>\n",
       "      <th>Residence_type</th>\n",
       "      <th>smoking_status</th>\n",
       "    </tr>\n",
       "  </thead>\n",
       "  <tbody>\n",
       "    <tr>\n",
       "      <th>count</th>\n",
       "      <td>5110</td>\n",
       "      <td>5110</td>\n",
       "      <td>5110</td>\n",
       "      <td>5110</td>\n",
       "      <td>3566</td>\n",
       "    </tr>\n",
       "    <tr>\n",
       "      <th>unique</th>\n",
       "      <td>2</td>\n",
       "      <td>2</td>\n",
       "      <td>5</td>\n",
       "      <td>2</td>\n",
       "      <td>3</td>\n",
       "    </tr>\n",
       "    <tr>\n",
       "      <th>top</th>\n",
       "      <td>Female</td>\n",
       "      <td>Yes</td>\n",
       "      <td>Private</td>\n",
       "      <td>Urban</td>\n",
       "      <td>never smoked</td>\n",
       "    </tr>\n",
       "    <tr>\n",
       "      <th>freq</th>\n",
       "      <td>2995</td>\n",
       "      <td>3353</td>\n",
       "      <td>2925</td>\n",
       "      <td>2596</td>\n",
       "      <td>1892</td>\n",
       "    </tr>\n",
       "  </tbody>\n",
       "</table>\n",
       "</div>"
      ],
      "text/plain": [
       "        gender ever_married work_type Residence_type smoking_status\n",
       "count     5110         5110      5110           5110           3566\n",
       "unique       2            2         5              2              3\n",
       "top     Female          Yes   Private          Urban   never smoked\n",
       "freq      2995         3353      2925           2596           1892"
      ]
     },
     "execution_count": 143,
     "metadata": {},
     "output_type": "execute_result"
    }
   ],
   "source": [
    "data_raw.describe(include = ['category'])"
   ]
  },
  {
   "cell_type": "code",
   "execution_count": 144,
   "id": "2ff6544a",
   "metadata": {},
   "outputs": [
    {
     "data": {
      "image/png": "[encoded data removed]",
      "text/plain": [
       "<Figure size 432x288 with 1 Axes>"
      ]
     },
     "metadata": {
      "needs_background": "light"
     },
     "output_type": "display_data"
    }
   ],
   "source": [
    "sns.countplot(x = 'stroke', data = data_raw)\n",
    "pass"
   ]
  },
  {
   "cell_type": "code",
   "execution_count": 145,
   "id": "9e3f0dc4",
   "metadata": {},
   "outputs": [
    {
     "data": {
      "image/png": "[encoded data removed]",
      "text/plain": [
       "<Figure size 432x288 with 1 Axes>"
      ]
     },
     "metadata": {
      "needs_background": "light"
     },
     "output_type": "display_data"
    }
   ],
   "source": [
    "sns.countplot(x = 'stroke', hue = 'gender', data = data_raw)\n",
    "pass"
   ]
  },
  {
   "cell_type": "code",
   "execution_count": 146,
   "id": "e48c89ce",
   "metadata": {},
   "outputs": [
    {
     "data": {
      "image/png": "[encoded data removed]",
      "text/plain": [
       "<Figure size 432x288 with 1 Axes>"
      ]
     },
     "metadata": {
      "needs_background": "light"
     },
     "output_type": "display_data"
    }
   ],
   "source": [
    "sns.countplot(x = 'stroke', hue = 'ever_married', data = data_raw)\n",
    "pass"
   ]
  },
  {
   "cell_type": "code",
   "execution_count": 147,
   "id": "3533adf2",
   "metadata": {},
   "outputs": [
    {
     "data": {
      "image/png": "[encoded data removed]",
      "text/plain": [
       "<Figure size 432x288 with 1 Axes>"
      ]
     },
     "metadata": {
      "needs_background": "light"
     },
     "output_type": "display_data"
    }
   ],
   "source": [
    "sns.countplot(x = 'stroke', hue = 'work_type', data = data_raw)\n",
    "pass"
   ]
  },
  {
   "cell_type": "code",
   "execution_count": 148,
   "id": "e3b910e0",
   "metadata": {},
   "outputs": [
    {
     "data": {
      "image/png": "[encoded data removed]",
      "text/plain": [
       "<Figure size 432x288 with 1 Axes>"
      ]
     },
     "metadata": {
      "needs_background": "light"
     },
     "output_type": "display_data"
    }
   ],
   "source": [
    "sns.countplot(x = 'stroke', hue = 'Residence_type', data = data_raw)\n",
    "pass"
   ]
  },
  {
   "cell_type": "code",
   "execution_count": 149,
   "id": "b10f7a21",
   "metadata": {},
   "outputs": [
    {
     "data": {
      "image/png": "[encoded data removed]",
      "text/plain": [
       "<Figure size 432x288 with 1 Axes>"
      ]
     },
     "metadata": {
      "needs_background": "light"
     },
     "output_type": "display_data"
    }
   ],
   "source": [
    "sns.countplot(x = 'stroke', hue = 'smoking_status', data = data_raw)\n",
    "pass"
   ]
  },
  {
   "cell_type": "code",
   "execution_count": 150,
   "id": "9e043565",
   "metadata": {},
   "outputs": [
    {
     "data": {
      "image/png": "[encoded data removed]",
      "text/plain": [
       "<Figure size 432x288 with 1 Axes>"
      ]
     },
     "metadata": {
      "needs_background": "light"
     },
     "output_type": "display_data"
    }
   ],
   "source": [
    "sns.countplot(x = 'stroke', hue = 'hypertension', data = data_raw)\n",
    "pass"
   ]
  },
  {
   "cell_type": "code",
   "execution_count": 151,
   "id": "8e592650",
   "metadata": {},
   "outputs": [
    {
     "data": {
      "image/png": "[encoded data removed]",
      "text/plain": [
       "<Figure size 432x288 with 1 Axes>"
      ]
     },
     "metadata": {
      "needs_background": "light"
     },
     "output_type": "display_data"
    }
   ],
   "source": [
    "sns.countplot(x = 'stroke', hue = 'heart_disease', data = data_raw)\n",
    "pass"
   ]
  },
  {
   "cell_type": "code",
   "execution_count": 152,
   "id": "5fbfa5bc",
   "metadata": {},
   "outputs": [
    {
     "data": {
      "text/plain": [
       "<matplotlib.collections.PathCollection at 0x278e5064f70>"
      ]
     },
     "execution_count": 152,
     "metadata": {},
     "output_type": "execute_result"
    },
    {
     "data": {
      "image/png": "[encoded data removed]",
      "text/plain": [
       "<Figure size 432x288 with 1 Axes>"
      ]
     },
     "metadata": {
      "needs_background": "light"
     },
     "output_type": "display_data"
    }
   ],
   "source": [
    "plt.scatter(data_raw['age'], data_raw['stroke'], alpha = 0.1)"
   ]
  },
  {
   "cell_type": "code",
   "execution_count": 153,
   "id": "f95dc942",
   "metadata": {},
   "outputs": [
    {
     "data": {
      "text/plain": [
       "<matplotlib.collections.PathCollection at 0x278e52204c0>"
      ]
     },
     "execution_count": 153,
     "metadata": {},
     "output_type": "execute_result"
    },
    {
     "data": {
      "image/png": "[encoded data removed]",
      "text/plain": [
       "<Figure size 432x288 with 1 Axes>"
      ]
     },
     "metadata": {
      "needs_background": "light"
     },
     "output_type": "display_data"
    }
   ],
   "source": [
    "plt.scatter(data_raw['bmi'], data_raw['stroke'], alpha = 0.1)"
   ]
  },
  {
   "cell_type": "code",
   "execution_count": 154,
   "id": "b5cc8195",
   "metadata": {},
   "outputs": [
    {
     "data": {
      "text/plain": [
       "<matplotlib.collections.PathCollection at 0x278e5585c70>"
      ]
     },
     "execution_count": 154,
     "metadata": {},
     "output_type": "execute_result"
    },
    {
     "data": {
      "image/png": "[encoded data removed]",
      "text/plain": [
       "<Figure size 432x288 with 1 Axes>"
      ]
     },
     "metadata": {
      "needs_background": "light"
     },
     "output_type": "display_data"
    }
   ],
   "source": [
    "plt.scatter(data_raw['avg_glucose_level'], data_raw['stroke'], alpha = 0.1)"
   ]
  },
  {
   "cell_type": "markdown",
   "id": "e0d04db0",
   "metadata": {},
   "source": [
    "### Матрица корреляции"
   ]
  },
  {
   "cell_type": "code",
   "execution_count": 155,
   "id": "34a44470",
   "metadata": {},
   "outputs": [
    {
     "data": {
      "text/html": [
       "<div>\n",
       "<style scoped>\n",
       "    .dataframe tbody tr th:only-of-type {\n",
       "        vertical-align: middle;\n",
       "    }\n",
       "\n",
       "    .dataframe tbody tr th {\n",
       "        vertical-align: top;\n",
       "    }\n",
       "\n",
       "    .dataframe thead th {\n",
       "        text-align: right;\n",
       "    }\n",
       "</style>\n",
       "<table border=\"1\" class=\"dataframe\">\n",
       "  <thead>\n",
       "    <tr style=\"text-align: right;\">\n",
       "      <th></th>\n",
       "      <th>id</th>\n",
       "      <th>age</th>\n",
       "      <th>hypertension</th>\n",
       "      <th>heart_disease</th>\n",
       "      <th>avg_glucose_level</th>\n",
       "      <th>bmi</th>\n",
       "      <th>stroke</th>\n",
       "    </tr>\n",
       "  </thead>\n",
       "  <tbody>\n",
       "    <tr>\n",
       "      <th>id</th>\n",
       "      <td>1.000000</td>\n",
       "      <td>0.003538</td>\n",
       "      <td>0.003550</td>\n",
       "      <td>-0.001296</td>\n",
       "      <td>0.001092</td>\n",
       "      <td>0.003084</td>\n",
       "      <td>0.006388</td>\n",
       "    </tr>\n",
       "    <tr>\n",
       "      <th>age</th>\n",
       "      <td>0.003538</td>\n",
       "      <td>1.000000</td>\n",
       "      <td>0.276398</td>\n",
       "      <td>0.263796</td>\n",
       "      <td>0.238171</td>\n",
       "      <td>0.333398</td>\n",
       "      <td>0.245257</td>\n",
       "    </tr>\n",
       "    <tr>\n",
       "      <th>hypertension</th>\n",
       "      <td>0.003550</td>\n",
       "      <td>0.276398</td>\n",
       "      <td>1.000000</td>\n",
       "      <td>0.108306</td>\n",
       "      <td>0.174474</td>\n",
       "      <td>0.167811</td>\n",
       "      <td>0.127904</td>\n",
       "    </tr>\n",
       "    <tr>\n",
       "      <th>heart_disease</th>\n",
       "      <td>-0.001296</td>\n",
       "      <td>0.263796</td>\n",
       "      <td>0.108306</td>\n",
       "      <td>1.000000</td>\n",
       "      <td>0.161857</td>\n",
       "      <td>0.041357</td>\n",
       "      <td>0.134914</td>\n",
       "    </tr>\n",
       "    <tr>\n",
       "      <th>avg_glucose_level</th>\n",
       "      <td>0.001092</td>\n",
       "      <td>0.238171</td>\n",
       "      <td>0.174474</td>\n",
       "      <td>0.161857</td>\n",
       "      <td>1.000000</td>\n",
       "      <td>0.175502</td>\n",
       "      <td>0.131945</td>\n",
       "    </tr>\n",
       "    <tr>\n",
       "      <th>bmi</th>\n",
       "      <td>0.003084</td>\n",
       "      <td>0.333398</td>\n",
       "      <td>0.167811</td>\n",
       "      <td>0.041357</td>\n",
       "      <td>0.175502</td>\n",
       "      <td>1.000000</td>\n",
       "      <td>0.042374</td>\n",
       "    </tr>\n",
       "    <tr>\n",
       "      <th>stroke</th>\n",
       "      <td>0.006388</td>\n",
       "      <td>0.245257</td>\n",
       "      <td>0.127904</td>\n",
       "      <td>0.134914</td>\n",
       "      <td>0.131945</td>\n",
       "      <td>0.042374</td>\n",
       "      <td>1.000000</td>\n",
       "    </tr>\n",
       "  </tbody>\n",
       "</table>\n",
       "</div>"
      ],
      "text/plain": [
       "                         id       age  hypertension  heart_disease  \\\n",
       "id                 1.000000  0.003538      0.003550      -0.001296   \n",
       "age                0.003538  1.000000      0.276398       0.263796   \n",
       "hypertension       0.003550  0.276398      1.000000       0.108306   \n",
       "heart_disease     -0.001296  0.263796      0.108306       1.000000   \n",
       "avg_glucose_level  0.001092  0.238171      0.174474       0.161857   \n",
       "bmi                0.003084  0.333398      0.167811       0.041357   \n",
       "stroke             0.006388  0.245257      0.127904       0.134914   \n",
       "\n",
       "                   avg_glucose_level       bmi    stroke  \n",
       "id                          0.001092  0.003084  0.006388  \n",
       "age                         0.238171  0.333398  0.245257  \n",
       "hypertension                0.174474  0.167811  0.127904  \n",
       "heart_disease               0.161857  0.041357  0.134914  \n",
       "avg_glucose_level           1.000000  0.175502  0.131945  \n",
       "bmi                         0.175502  1.000000  0.042374  \n",
       "stroke                      0.131945  0.042374  1.000000  "
      ]
     },
     "execution_count": 155,
     "metadata": {},
     "output_type": "execute_result"
    }
   ],
   "source": [
    "corr_mat = data_raw.corr()\n",
    "corr_mat"
   ]
  },
  {
   "cell_type": "code",
   "execution_count": 156,
   "id": "df6abbf6",
   "metadata": {},
   "outputs": [
    {
     "data": {
      "image/png": "[encoded data removed]",
      "text/plain": [
       "<Figure size 432x288 with 2 Axes>"
      ]
     },
     "metadata": {
      "needs_background": "light"
     },
     "output_type": "display_data"
    }
   ],
   "source": [
    "sns.heatmap(corr_mat, square=True, vmin = -1, vmax = 1, cmap ='coolwarm')\n",
    "pass"
   ]
  },
  {
   "cell_type": "markdown",
   "id": "b4871e50",
   "metadata": {},
   "source": [
    "Из визуализации данных видно, что наличие у пациента инсульта больше всего зависит от возраста, чуть менее зависит от уровня глюкозы, гипертонии и заболеваний сердца, и меньше всего зависит (но все же зависит!) от индекса массы тела"
   ]
  },
  {
   "cell_type": "markdown",
   "id": "1c421fa7",
   "metadata": {},
   "source": [
    "# 3. Обработка пропущенных значений"
   ]
  },
  {
   "cell_type": "markdown",
   "id": "4d7b3b64",
   "metadata": {},
   "source": [
    "### Заполняем пропуски в столбцах с категориальными признаками модой, а с числовыми - медианой"
   ]
  },
  {
   "cell_type": "code",
   "execution_count": 157,
   "id": "7fd3b202",
   "metadata": {},
   "outputs": [
    {
     "data": {
      "text/plain": [
       "id                      0\n",
       "gender                  0\n",
       "age                     0\n",
       "hypertension            0\n",
       "heart_disease           0\n",
       "ever_married            0\n",
       "work_type               0\n",
       "Residence_type          0\n",
       "avg_glucose_level       0\n",
       "bmi                   201\n",
       "smoking_status       1544\n",
       "stroke                  0\n",
       "dtype: int64"
      ]
     },
     "execution_count": 157,
     "metadata": {},
     "output_type": "execute_result"
    }
   ],
   "source": [
    "data_raw.isna().sum()"
   ]
  },
  {
   "cell_type": "code",
   "execution_count": 161,
   "id": "13954e22",
   "metadata": {},
   "outputs": [],
   "source": [
    "data_raw['bmi'].fillna(data_raw['bmi'].median(axis = 0), axis = 0, inplace = True)\n",
    "data_raw.fillna(data_raw.mode().iloc[0], inplace = True)"
   ]
  },
  {
   "cell_type": "code",
   "execution_count": 162,
   "id": "99d5fe1b",
   "metadata": {},
   "outputs": [
    {
     "data": {
      "text/plain": [
       "id                   0\n",
       "gender               0\n",
       "age                  0\n",
       "hypertension         0\n",
       "heart_disease        0\n",
       "ever_married         0\n",
       "work_type            0\n",
       "Residence_type       0\n",
       "avg_glucose_level    0\n",
       "bmi                  0\n",
       "smoking_status       0\n",
       "stroke               0\n",
       "dtype: int64"
      ]
     },
     "execution_count": 162,
     "metadata": {},
     "output_type": "execute_result"
    }
   ],
   "source": [
    "data_raw.isna().sum()"
   ]
  },
  {
   "cell_type": "markdown",
   "id": "f3f214ea",
   "metadata": {},
   "source": [
    "# 4. Обработка категориальных признаков"
   ]
  },
  {
   "cell_type": "markdown",
   "id": "70a809d5",
   "metadata": {},
   "source": [
    "Обработка бинарных признаков:"
   ]
  },
  {
   "cell_type": "code",
   "execution_count": 164,
   "id": "71ff679e",
   "metadata": {},
   "outputs": [],
   "source": [
    "data_raw['gender'] = pd.factorize(data_raw['gender'])[0]\n",
    "data_raw['ever_married'] = pd.factorize(data_raw['ever_married'])[0]\n",
    "data_raw['Residence_type'] = pd.factorize(data_raw['Residence_type'])[0]"
   ]
  },
  {
   "cell_type": "markdown",
   "id": "491d4a0b",
   "metadata": {},
   "source": [
    "Обработка категориальных признаков:"
   ]
  },
  {
   "cell_type": "code",
   "execution_count": 165,
   "id": "8eb77d86",
   "metadata": {},
   "outputs": [],
   "source": [
    "work_type_dummies = pd.get_dummies(data_raw['work_type'])\n",
    "data_raw = pd.concat((data_raw, work_type_dummies), axis = 1)\n",
    "data_raw = data_raw.drop(['work_type'], axis = 1)\n",
    "smoking_status_dummies = pd.get_dummies(data_raw['smoking_status'])\n",
    "data_raw = pd.concat((data_raw, smoking_status_dummies), axis = 1)\n",
    "data_raw = data_raw.drop(['smoking_status'], axis = 1)"
   ]
  },
  {
   "cell_type": "code",
   "execution_count": 166,
   "id": "24ca88d6",
   "metadata": {},
   "outputs": [
    {
     "data": {
      "text/html": [
       "<div>\n",
       "<style scoped>\n",
       "    .dataframe tbody tr th:only-of-type {\n",
       "        vertical-align: middle;\n",
       "    }\n",
       "\n",
       "    .dataframe tbody tr th {\n",
       "        vertical-align: top;\n",
       "    }\n",
       "\n",
       "    .dataframe thead th {\n",
       "        text-align: right;\n",
       "    }\n",
       "</style>\n",
       "<table border=\"1\" class=\"dataframe\">\n",
       "  <thead>\n",
       "    <tr style=\"text-align: right;\">\n",
       "      <th></th>\n",
       "      <th>id</th>\n",
       "      <th>gender</th>\n",
       "      <th>age</th>\n",
       "      <th>hypertension</th>\n",
       "      <th>heart_disease</th>\n",
       "      <th>ever_married</th>\n",
       "      <th>Residence_type</th>\n",
       "      <th>avg_glucose_level</th>\n",
       "      <th>bmi</th>\n",
       "      <th>stroke</th>\n",
       "      <th>Govt_job</th>\n",
       "      <th>Never_worked</th>\n",
       "      <th>Private</th>\n",
       "      <th>Self-employed</th>\n",
       "      <th>children</th>\n",
       "      <th>formerly smoked</th>\n",
       "      <th>never smoked</th>\n",
       "      <th>smokes</th>\n",
       "    </tr>\n",
       "  </thead>\n",
       "  <tbody>\n",
       "    <tr>\n",
       "      <th>0</th>\n",
       "      <td>9046</td>\n",
       "      <td>0</td>\n",
       "      <td>67.0</td>\n",
       "      <td>0</td>\n",
       "      <td>1</td>\n",
       "      <td>0</td>\n",
       "      <td>0</td>\n",
       "      <td>228.69</td>\n",
       "      <td>36.6</td>\n",
       "      <td>1</td>\n",
       "      <td>0</td>\n",
       "      <td>0</td>\n",
       "      <td>1</td>\n",
       "      <td>0</td>\n",
       "      <td>0</td>\n",
       "      <td>1</td>\n",
       "      <td>0</td>\n",
       "      <td>0</td>\n",
       "    </tr>\n",
       "    <tr>\n",
       "      <th>1</th>\n",
       "      <td>51676</td>\n",
       "      <td>1</td>\n",
       "      <td>61.0</td>\n",
       "      <td>0</td>\n",
       "      <td>0</td>\n",
       "      <td>0</td>\n",
       "      <td>1</td>\n",
       "      <td>202.21</td>\n",
       "      <td>28.1</td>\n",
       "      <td>1</td>\n",
       "      <td>0</td>\n",
       "      <td>0</td>\n",
       "      <td>0</td>\n",
       "      <td>1</td>\n",
       "      <td>0</td>\n",
       "      <td>0</td>\n",
       "      <td>1</td>\n",
       "      <td>0</td>\n",
       "    </tr>\n",
       "    <tr>\n",
       "      <th>2</th>\n",
       "      <td>31112</td>\n",
       "      <td>0</td>\n",
       "      <td>80.0</td>\n",
       "      <td>0</td>\n",
       "      <td>1</td>\n",
       "      <td>0</td>\n",
       "      <td>1</td>\n",
       "      <td>105.92</td>\n",
       "      <td>32.5</td>\n",
       "      <td>1</td>\n",
       "      <td>0</td>\n",
       "      <td>0</td>\n",
       "      <td>1</td>\n",
       "      <td>0</td>\n",
       "      <td>0</td>\n",
       "      <td>0</td>\n",
       "      <td>1</td>\n",
       "      <td>0</td>\n",
       "    </tr>\n",
       "    <tr>\n",
       "      <th>3</th>\n",
       "      <td>60182</td>\n",
       "      <td>1</td>\n",
       "      <td>49.0</td>\n",
       "      <td>0</td>\n",
       "      <td>0</td>\n",
       "      <td>0</td>\n",
       "      <td>0</td>\n",
       "      <td>171.23</td>\n",
       "      <td>34.4</td>\n",
       "      <td>1</td>\n",
       "      <td>0</td>\n",
       "      <td>0</td>\n",
       "      <td>1</td>\n",
       "      <td>0</td>\n",
       "      <td>0</td>\n",
       "      <td>0</td>\n",
       "      <td>0</td>\n",
       "      <td>1</td>\n",
       "    </tr>\n",
       "    <tr>\n",
       "      <th>4</th>\n",
       "      <td>1665</td>\n",
       "      <td>1</td>\n",
       "      <td>79.0</td>\n",
       "      <td>1</td>\n",
       "      <td>0</td>\n",
       "      <td>0</td>\n",
       "      <td>1</td>\n",
       "      <td>174.12</td>\n",
       "      <td>24.0</td>\n",
       "      <td>1</td>\n",
       "      <td>0</td>\n",
       "      <td>0</td>\n",
       "      <td>0</td>\n",
       "      <td>1</td>\n",
       "      <td>0</td>\n",
       "      <td>0</td>\n",
       "      <td>1</td>\n",
       "      <td>0</td>\n",
       "    </tr>\n",
       "    <tr>\n",
       "      <th>...</th>\n",
       "      <td>...</td>\n",
       "      <td>...</td>\n",
       "      <td>...</td>\n",
       "      <td>...</td>\n",
       "      <td>...</td>\n",
       "      <td>...</td>\n",
       "      <td>...</td>\n",
       "      <td>...</td>\n",
       "      <td>...</td>\n",
       "      <td>...</td>\n",
       "      <td>...</td>\n",
       "      <td>...</td>\n",
       "      <td>...</td>\n",
       "      <td>...</td>\n",
       "      <td>...</td>\n",
       "      <td>...</td>\n",
       "      <td>...</td>\n",
       "      <td>...</td>\n",
       "    </tr>\n",
       "    <tr>\n",
       "      <th>5105</th>\n",
       "      <td>18234</td>\n",
       "      <td>1</td>\n",
       "      <td>80.0</td>\n",
       "      <td>1</td>\n",
       "      <td>0</td>\n",
       "      <td>0</td>\n",
       "      <td>0</td>\n",
       "      <td>83.75</td>\n",
       "      <td>28.1</td>\n",
       "      <td>0</td>\n",
       "      <td>0</td>\n",
       "      <td>0</td>\n",
       "      <td>1</td>\n",
       "      <td>0</td>\n",
       "      <td>0</td>\n",
       "      <td>0</td>\n",
       "      <td>1</td>\n",
       "      <td>0</td>\n",
       "    </tr>\n",
       "    <tr>\n",
       "      <th>5106</th>\n",
       "      <td>44873</td>\n",
       "      <td>1</td>\n",
       "      <td>81.0</td>\n",
       "      <td>0</td>\n",
       "      <td>0</td>\n",
       "      <td>0</td>\n",
       "      <td>0</td>\n",
       "      <td>125.20</td>\n",
       "      <td>40.0</td>\n",
       "      <td>0</td>\n",
       "      <td>0</td>\n",
       "      <td>0</td>\n",
       "      <td>0</td>\n",
       "      <td>1</td>\n",
       "      <td>0</td>\n",
       "      <td>0</td>\n",
       "      <td>1</td>\n",
       "      <td>0</td>\n",
       "    </tr>\n",
       "    <tr>\n",
       "      <th>5107</th>\n",
       "      <td>19723</td>\n",
       "      <td>1</td>\n",
       "      <td>35.0</td>\n",
       "      <td>0</td>\n",
       "      <td>0</td>\n",
       "      <td>0</td>\n",
       "      <td>1</td>\n",
       "      <td>82.99</td>\n",
       "      <td>30.6</td>\n",
       "      <td>0</td>\n",
       "      <td>0</td>\n",
       "      <td>0</td>\n",
       "      <td>0</td>\n",
       "      <td>1</td>\n",
       "      <td>0</td>\n",
       "      <td>0</td>\n",
       "      <td>1</td>\n",
       "      <td>0</td>\n",
       "    </tr>\n",
       "    <tr>\n",
       "      <th>5108</th>\n",
       "      <td>37544</td>\n",
       "      <td>0</td>\n",
       "      <td>51.0</td>\n",
       "      <td>0</td>\n",
       "      <td>0</td>\n",
       "      <td>0</td>\n",
       "      <td>1</td>\n",
       "      <td>166.29</td>\n",
       "      <td>25.6</td>\n",
       "      <td>0</td>\n",
       "      <td>0</td>\n",
       "      <td>0</td>\n",
       "      <td>1</td>\n",
       "      <td>0</td>\n",
       "      <td>0</td>\n",
       "      <td>1</td>\n",
       "      <td>0</td>\n",
       "      <td>0</td>\n",
       "    </tr>\n",
       "    <tr>\n",
       "      <th>5109</th>\n",
       "      <td>44679</td>\n",
       "      <td>1</td>\n",
       "      <td>44.0</td>\n",
       "      <td>0</td>\n",
       "      <td>0</td>\n",
       "      <td>0</td>\n",
       "      <td>0</td>\n",
       "      <td>85.28</td>\n",
       "      <td>26.2</td>\n",
       "      <td>0</td>\n",
       "      <td>1</td>\n",
       "      <td>0</td>\n",
       "      <td>0</td>\n",
       "      <td>0</td>\n",
       "      <td>0</td>\n",
       "      <td>0</td>\n",
       "      <td>1</td>\n",
       "      <td>0</td>\n",
       "    </tr>\n",
       "  </tbody>\n",
       "</table>\n",
       "<p>5110 rows × 18 columns</p>\n",
       "</div>"
      ],
      "text/plain": [
       "         id  gender   age  hypertension  heart_disease  ever_married  \\\n",
       "0      9046       0  67.0             0              1             0   \n",
       "1     51676       1  61.0             0              0             0   \n",
       "2     31112       0  80.0             0              1             0   \n",
       "3     60182       1  49.0             0              0             0   \n",
       "4      1665       1  79.0             1              0             0   \n",
       "...     ...     ...   ...           ...            ...           ...   \n",
       "5105  18234       1  80.0             1              0             0   \n",
       "5106  44873       1  81.0             0              0             0   \n",
       "5107  19723       1  35.0             0              0             0   \n",
       "5108  37544       0  51.0             0              0             0   \n",
       "5109  44679       1  44.0             0              0             0   \n",
       "\n",
       "      Residence_type  avg_glucose_level   bmi  stroke  Govt_job  Never_worked  \\\n",
       "0                  0             228.69  36.6       1         0             0   \n",
       "1                  1             202.21  28.1       1         0             0   \n",
       "2                  1             105.92  32.5       1         0             0   \n",
       "3                  0             171.23  34.4       1         0             0   \n",
       "4                  1             174.12  24.0       1         0             0   \n",
       "...              ...                ...   ...     ...       ...           ...   \n",
       "5105               0              83.75  28.1       0         0             0   \n",
       "5106               0             125.20  40.0       0         0             0   \n",
       "5107               1              82.99  30.6       0         0             0   \n",
       "5108               1             166.29  25.6       0         0             0   \n",
       "5109               0              85.28  26.2       0         1             0   \n",
       "\n",
       "      Private  Self-employed  children  formerly smoked  never smoked  smokes  \n",
       "0           1              0         0                1             0       0  \n",
       "1           0              1         0                0             1       0  \n",
       "2           1              0         0                0             1       0  \n",
       "3           1              0         0                0             0       1  \n",
       "4           0              1         0                0             1       0  \n",
       "...       ...            ...       ...              ...           ...     ...  \n",
       "5105        1              0         0                0             1       0  \n",
       "5106        0              1         0                0             1       0  \n",
       "5107        0              1         0                0             1       0  \n",
       "5108        1              0         0                1             0       0  \n",
       "5109        0              0         0                0             1       0  \n",
       "\n",
       "[5110 rows x 18 columns]"
      ]
     },
     "execution_count": 166,
     "metadata": {},
     "output_type": "execute_result"
    }
   ],
   "source": [
    "data_raw"
   ]
  },
  {
   "cell_type": "markdown",
   "id": "fbfb79de",
   "metadata": {},
   "source": [
    "# 5. Нормализация количественных признаков"
   ]
  },
  {
   "cell_type": "code",
   "execution_count": 172,
   "id": "60746a57",
   "metadata": {},
   "outputs": [
    {
     "data": {
      "text/html": [
       "<div>\n",
       "<style scoped>\n",
       "    .dataframe tbody tr th:only-of-type {\n",
       "        vertical-align: middle;\n",
       "    }\n",
       "\n",
       "    .dataframe tbody tr th {\n",
       "        vertical-align: top;\n",
       "    }\n",
       "\n",
       "    .dataframe thead th {\n",
       "        text-align: right;\n",
       "    }\n",
       "</style>\n",
       "<table border=\"1\" class=\"dataframe\">\n",
       "  <thead>\n",
       "    <tr style=\"text-align: right;\">\n",
       "      <th></th>\n",
       "      <th>id</th>\n",
       "      <th>gender</th>\n",
       "      <th>age</th>\n",
       "      <th>hypertension</th>\n",
       "      <th>heart_disease</th>\n",
       "      <th>ever_married</th>\n",
       "      <th>Residence_type</th>\n",
       "      <th>avg_glucose_level</th>\n",
       "      <th>bmi</th>\n",
       "      <th>stroke</th>\n",
       "      <th>Govt_job</th>\n",
       "      <th>Never_worked</th>\n",
       "      <th>Private</th>\n",
       "      <th>Self-employed</th>\n",
       "      <th>children</th>\n",
       "      <th>formerly smoked</th>\n",
       "      <th>never smoked</th>\n",
       "      <th>smokes</th>\n",
       "    </tr>\n",
       "  </thead>\n",
       "  <tbody>\n",
       "    <tr>\n",
       "      <th>count</th>\n",
       "      <td>5110.000000</td>\n",
       "      <td>5110.000000</td>\n",
       "      <td>5.110000e+03</td>\n",
       "      <td>5110.000000</td>\n",
       "      <td>5110.000000</td>\n",
       "      <td>5110.000000</td>\n",
       "      <td>5110.000000</td>\n",
       "      <td>5.110000e+03</td>\n",
       "      <td>5.110000e+03</td>\n",
       "      <td>5110.000000</td>\n",
       "      <td>5110.000000</td>\n",
       "      <td>5110.000000</td>\n",
       "      <td>5110.000000</td>\n",
       "      <td>5110.000000</td>\n",
       "      <td>5110.000000</td>\n",
       "      <td>5110.000000</td>\n",
       "      <td>5110.000000</td>\n",
       "      <td>5110.000000</td>\n",
       "    </tr>\n",
       "    <tr>\n",
       "      <th>mean</th>\n",
       "      <td>36517.829354</td>\n",
       "      <td>0.586106</td>\n",
       "      <td>-1.184745e-15</td>\n",
       "      <td>0.097456</td>\n",
       "      <td>0.054012</td>\n",
       "      <td>0.343836</td>\n",
       "      <td>0.491977</td>\n",
       "      <td>-1.480225e-16</td>\n",
       "      <td>5.311255e-16</td>\n",
       "      <td>0.048728</td>\n",
       "      <td>0.128571</td>\n",
       "      <td>0.004305</td>\n",
       "      <td>0.572407</td>\n",
       "      <td>0.160274</td>\n",
       "      <td>0.134442</td>\n",
       "      <td>0.173190</td>\n",
       "      <td>0.672407</td>\n",
       "      <td>0.154403</td>\n",
       "    </tr>\n",
       "    <tr>\n",
       "      <th>std</th>\n",
       "      <td>21161.721625</td>\n",
       "      <td>0.492578</td>\n",
       "      <td>1.000000e+00</td>\n",
       "      <td>0.296607</td>\n",
       "      <td>0.226063</td>\n",
       "      <td>0.475034</td>\n",
       "      <td>0.499985</td>\n",
       "      <td>1.000000e+00</td>\n",
       "      <td>1.000000e+00</td>\n",
       "      <td>0.215320</td>\n",
       "      <td>0.334758</td>\n",
       "      <td>0.065480</td>\n",
       "      <td>0.494778</td>\n",
       "      <td>0.366896</td>\n",
       "      <td>0.341160</td>\n",
       "      <td>0.378448</td>\n",
       "      <td>0.469381</td>\n",
       "      <td>0.361370</td>\n",
       "    </tr>\n",
       "    <tr>\n",
       "      <th>min</th>\n",
       "      <td>67.000000</td>\n",
       "      <td>0.000000</td>\n",
       "      <td>-1.908074e+00</td>\n",
       "      <td>0.000000</td>\n",
       "      <td>0.000000</td>\n",
       "      <td>0.000000</td>\n",
       "      <td>0.000000</td>\n",
       "      <td>-1.126848e+00</td>\n",
       "      <td>-2.410791e+00</td>\n",
       "      <td>0.000000</td>\n",
       "      <td>0.000000</td>\n",
       "      <td>0.000000</td>\n",
       "      <td>0.000000</td>\n",
       "      <td>0.000000</td>\n",
       "      <td>0.000000</td>\n",
       "      <td>0.000000</td>\n",
       "      <td>0.000000</td>\n",
       "      <td>0.000000</td>\n",
       "    </tr>\n",
       "    <tr>\n",
       "      <th>25%</th>\n",
       "      <td>17741.250000</td>\n",
       "      <td>0.000000</td>\n",
       "      <td>-8.060363e-01</td>\n",
       "      <td>0.000000</td>\n",
       "      <td>0.000000</td>\n",
       "      <td>0.000000</td>\n",
       "      <td>0.000000</td>\n",
       "      <td>-6.382598e-01</td>\n",
       "      <td>-6.574445e-01</td>\n",
       "      <td>0.000000</td>\n",
       "      <td>0.000000</td>\n",
       "      <td>0.000000</td>\n",
       "      <td>0.000000</td>\n",
       "      <td>0.000000</td>\n",
       "      <td>0.000000</td>\n",
       "      <td>0.000000</td>\n",
       "      <td>0.000000</td>\n",
       "      <td>0.000000</td>\n",
       "    </tr>\n",
       "    <tr>\n",
       "      <th>50%</th>\n",
       "      <td>36932.000000</td>\n",
       "      <td>1.000000</td>\n",
       "      <td>7.842450e-02</td>\n",
       "      <td>0.000000</td>\n",
       "      <td>0.000000</td>\n",
       "      <td>0.000000</td>\n",
       "      <td>0.000000</td>\n",
       "      <td>-3.149637e-01</td>\n",
       "      <td>-9.897124e-02</td>\n",
       "      <td>0.000000</td>\n",
       "      <td>0.000000</td>\n",
       "      <td>0.000000</td>\n",
       "      <td>1.000000</td>\n",
       "      <td>0.000000</td>\n",
       "      <td>0.000000</td>\n",
       "      <td>0.000000</td>\n",
       "      <td>1.000000</td>\n",
       "      <td>0.000000</td>\n",
       "    </tr>\n",
       "    <tr>\n",
       "      <th>75%</th>\n",
       "      <td>54682.000000</td>\n",
       "      <td>1.000000</td>\n",
       "      <td>7.859932e-01</td>\n",
       "      <td>0.000000</td>\n",
       "      <td>0.000000</td>\n",
       "      <td>1.000000</td>\n",
       "      <td>1.000000</td>\n",
       "      <td>1.753909e-01</td>\n",
       "      <td>5.114531e-01</td>\n",
       "      <td>0.000000</td>\n",
       "      <td>0.000000</td>\n",
       "      <td>0.000000</td>\n",
       "      <td>1.000000</td>\n",
       "      <td>0.000000</td>\n",
       "      <td>0.000000</td>\n",
       "      <td>0.000000</td>\n",
       "      <td>1.000000</td>\n",
       "      <td>0.000000</td>\n",
       "    </tr>\n",
       "    <tr>\n",
       "      <th>max</th>\n",
       "      <td>72940.000000</td>\n",
       "      <td>1.000000</td>\n",
       "      <td>1.714677e+00</td>\n",
       "      <td>1.000000</td>\n",
       "      <td>1.000000</td>\n",
       "      <td>1.000000</td>\n",
       "      <td>1.000000</td>\n",
       "      <td>3.656787e+00</td>\n",
       "      <td>8.927516e+00</td>\n",
       "      <td>1.000000</td>\n",
       "      <td>1.000000</td>\n",
       "      <td>1.000000</td>\n",
       "      <td>1.000000</td>\n",
       "      <td>1.000000</td>\n",
       "      <td>1.000000</td>\n",
       "      <td>1.000000</td>\n",
       "      <td>1.000000</td>\n",
       "      <td>1.000000</td>\n",
       "    </tr>\n",
       "  </tbody>\n",
       "</table>\n",
       "</div>"
      ],
      "text/plain": [
       "                 id       gender           age  hypertension  heart_disease  \\\n",
       "count   5110.000000  5110.000000  5.110000e+03   5110.000000    5110.000000   \n",
       "mean   36517.829354     0.586106 -1.184745e-15      0.097456       0.054012   \n",
       "std    21161.721625     0.492578  1.000000e+00      0.296607       0.226063   \n",
       "min       67.000000     0.000000 -1.908074e+00      0.000000       0.000000   \n",
       "25%    17741.250000     0.000000 -8.060363e-01      0.000000       0.000000   \n",
       "50%    36932.000000     1.000000  7.842450e-02      0.000000       0.000000   \n",
       "75%    54682.000000     1.000000  7.859932e-01      0.000000       0.000000   \n",
       "max    72940.000000     1.000000  1.714677e+00      1.000000       1.000000   \n",
       "\n",
       "       ever_married  Residence_type  avg_glucose_level           bmi  \\\n",
       "count   5110.000000     5110.000000       5.110000e+03  5.110000e+03   \n",
       "mean       0.343836        0.491977      -1.480225e-16  5.311255e-16   \n",
       "std        0.475034        0.499985       1.000000e+00  1.000000e+00   \n",
       "min        0.000000        0.000000      -1.126848e+00 -2.410791e+00   \n",
       "25%        0.000000        0.000000      -6.382598e-01 -6.574445e-01   \n",
       "50%        0.000000        0.000000      -3.149637e-01 -9.897124e-02   \n",
       "75%        1.000000        1.000000       1.753909e-01  5.114531e-01   \n",
       "max        1.000000        1.000000       3.656787e+00  8.927516e+00   \n",
       "\n",
       "            stroke     Govt_job  Never_worked      Private  Self-employed  \\\n",
       "count  5110.000000  5110.000000   5110.000000  5110.000000    5110.000000   \n",
       "mean      0.048728     0.128571      0.004305     0.572407       0.160274   \n",
       "std       0.215320     0.334758      0.065480     0.494778       0.366896   \n",
       "min       0.000000     0.000000      0.000000     0.000000       0.000000   \n",
       "25%       0.000000     0.000000      0.000000     0.000000       0.000000   \n",
       "50%       0.000000     0.000000      0.000000     1.000000       0.000000   \n",
       "75%       0.000000     0.000000      0.000000     1.000000       0.000000   \n",
       "max       1.000000     1.000000      1.000000     1.000000       1.000000   \n",
       "\n",
       "          children  formerly smoked  never smoked       smokes  \n",
       "count  5110.000000      5110.000000   5110.000000  5110.000000  \n",
       "mean      0.134442         0.173190      0.672407     0.154403  \n",
       "std       0.341160         0.378448      0.469381     0.361370  \n",
       "min       0.000000         0.000000      0.000000     0.000000  \n",
       "25%       0.000000         0.000000      0.000000     0.000000  \n",
       "50%       0.000000         0.000000      1.000000     0.000000  \n",
       "75%       0.000000         0.000000      1.000000     0.000000  \n",
       "max       1.000000         1.000000      1.000000     1.000000  "
      ]
     },
     "execution_count": 172,
     "metadata": {},
     "output_type": "execute_result"
    }
   ],
   "source": [
    "data_raw['age'] = (data_raw['age'] - data_raw['age'].mean(axis=0))/data_raw['age'].std(axis=0)\n",
    "data_raw['avg_glucose_level'] = (data_raw['avg_glucose_level'] - data_raw['avg_glucose_level'].mean(axis=0))/data_raw['avg_glucose_level'].std(axis=0)\n",
    "data_raw['bmi'] = (data_raw['bmi'] - data_raw['bmi'].mean(axis=0))/data_raw['bmi'].std(axis=0)\n",
    "data_raw.describe()"
   ]
  },
  {
   "cell_type": "markdown",
   "id": "9379185a",
   "metadata": {},
   "source": [
    "Построим новую матрицу корреляции, с учетом обработки категориальных и числовых признаков:"
   ]
  },
  {
   "cell_type": "code",
   "execution_count": 173,
   "id": "40017e8f",
   "metadata": {},
   "outputs": [
    {
     "data": {
      "text/html": [
       "<div>\n",
       "<style scoped>\n",
       "    .dataframe tbody tr th:only-of-type {\n",
       "        vertical-align: middle;\n",
       "    }\n",
       "\n",
       "    .dataframe tbody tr th {\n",
       "        vertical-align: top;\n",
       "    }\n",
       "\n",
       "    .dataframe thead th {\n",
       "        text-align: right;\n",
       "    }\n",
       "</style>\n",
       "<table border=\"1\" class=\"dataframe\">\n",
       "  <thead>\n",
       "    <tr style=\"text-align: right;\">\n",
       "      <th></th>\n",
       "      <th>id</th>\n",
       "      <th>gender</th>\n",
       "      <th>age</th>\n",
       "      <th>hypertension</th>\n",
       "      <th>heart_disease</th>\n",
       "      <th>ever_married</th>\n",
       "      <th>Residence_type</th>\n",
       "      <th>avg_glucose_level</th>\n",
       "      <th>bmi</th>\n",
       "      <th>stroke</th>\n",
       "      <th>Govt_job</th>\n",
       "      <th>Never_worked</th>\n",
       "      <th>Private</th>\n",
       "      <th>Self-employed</th>\n",
       "      <th>children</th>\n",
       "      <th>formerly smoked</th>\n",
       "      <th>never smoked</th>\n",
       "      <th>smokes</th>\n",
       "    </tr>\n",
       "  </thead>\n",
       "  <tbody>\n",
       "    <tr>\n",
       "      <th>id</th>\n",
       "      <td>1.000000</td>\n",
       "      <td>-0.001776</td>\n",
       "      <td>0.003538</td>\n",
       "      <td>0.003550</td>\n",
       "      <td>-0.001296</td>\n",
       "      <td>-0.013690</td>\n",
       "      <td>0.001403</td>\n",
       "      <td>0.001092</td>\n",
       "      <td>0.005555</td>\n",
       "      <td>0.006388</td>\n",
       "      <td>-0.000016</td>\n",
       "      <td>0.005459</td>\n",
       "      <td>0.023698</td>\n",
       "      <td>-0.019956</td>\n",
       "      <td>-0.013939</td>\n",
       "      <td>0.007812</td>\n",
       "      <td>-0.007071</td>\n",
       "      <td>0.001004</td>\n",
       "    </tr>\n",
       "    <tr>\n",
       "      <th>gender</th>\n",
       "      <td>-0.001776</td>\n",
       "      <td>1.000000</td>\n",
       "      <td>0.027623</td>\n",
       "      <td>-0.021275</td>\n",
       "      <td>-0.085717</td>\n",
       "      <td>-0.029936</td>\n",
       "      <td>-0.005937</td>\n",
       "      <td>-0.054580</td>\n",
       "      <td>0.026310</td>\n",
       "      <td>-0.009117</td>\n",
       "      <td>0.016534</td>\n",
       "      <td>-0.011496</td>\n",
       "      <td>0.032639</td>\n",
       "      <td>0.025971</td>\n",
       "      <td>-0.089283</td>\n",
       "      <td>-0.042738</td>\n",
       "      <td>0.043294</td>\n",
       "      <td>-0.011477</td>\n",
       "    </tr>\n",
       "    <tr>\n",
       "      <th>age</th>\n",
       "      <td>0.003538</td>\n",
       "      <td>0.027623</td>\n",
       "      <td>1.000000</td>\n",
       "      <td>0.276398</td>\n",
       "      <td>0.263796</td>\n",
       "      <td>-0.679125</td>\n",
       "      <td>-0.014180</td>\n",
       "      <td>0.238171</td>\n",
       "      <td>0.324296</td>\n",
       "      <td>0.245257</td>\n",
       "      <td>0.130013</td>\n",
       "      <td>-0.078653</td>\n",
       "      <td>0.116534</td>\n",
       "      <td>0.327989</td>\n",
       "      <td>-0.634215</td>\n",
       "      <td>0.236897</td>\n",
       "      <td>-0.247307</td>\n",
       "      <td>0.073133</td>\n",
       "    </tr>\n",
       "    <tr>\n",
       "      <th>hypertension</th>\n",
       "      <td>0.003550</td>\n",
       "      <td>-0.021275</td>\n",
       "      <td>0.276398</td>\n",
       "      <td>1.000000</td>\n",
       "      <td>0.108306</td>\n",
       "      <td>-0.164243</td>\n",
       "      <td>0.007913</td>\n",
       "      <td>0.174474</td>\n",
       "      <td>0.158293</td>\n",
       "      <td>0.127904</td>\n",
       "      <td>0.017685</td>\n",
       "      <td>-0.021608</td>\n",
       "      <td>-0.005413</td>\n",
       "      <td>0.115442</td>\n",
       "      <td>-0.129506</td>\n",
       "      <td>0.058853</td>\n",
       "      <td>-0.071503</td>\n",
       "      <td>0.031240</td>\n",
       "    </tr>\n",
       "    <tr>\n",
       "      <th>heart_disease</th>\n",
       "      <td>-0.001296</td>\n",
       "      <td>-0.085717</td>\n",
       "      <td>0.263796</td>\n",
       "      <td>0.108306</td>\n",
       "      <td>1.000000</td>\n",
       "      <td>-0.114644</td>\n",
       "      <td>-0.003092</td>\n",
       "      <td>0.161857</td>\n",
       "      <td>0.036916</td>\n",
       "      <td>0.134914</td>\n",
       "      <td>0.001330</td>\n",
       "      <td>-0.015712</td>\n",
       "      <td>0.000027</td>\n",
       "      <td>0.086760</td>\n",
       "      <td>-0.091634</td>\n",
       "      <td>0.066804</td>\n",
       "      <td>-0.087775</td>\n",
       "      <td>0.044049</td>\n",
       "    </tr>\n",
       "    <tr>\n",
       "      <th>ever_married</th>\n",
       "      <td>-0.013690</td>\n",
       "      <td>-0.029936</td>\n",
       "      <td>-0.679125</td>\n",
       "      <td>-0.164243</td>\n",
       "      <td>-0.114644</td>\n",
       "      <td>1.000000</td>\n",
       "      <td>0.006261</td>\n",
       "      <td>-0.155068</td>\n",
       "      <td>-0.334911</td>\n",
       "      <td>-0.108340</td>\n",
       "      <td>-0.134041</td>\n",
       "      <td>0.090838</td>\n",
       "      <td>-0.153830</td>\n",
       "      <td>-0.192716</td>\n",
       "      <td>0.544441</td>\n",
       "      <td>-0.171256</td>\n",
       "      <td>0.219091</td>\n",
       "      <td>-0.105226</td>\n",
       "    </tr>\n",
       "    <tr>\n",
       "      <th>Residence_type</th>\n",
       "      <td>0.001403</td>\n",
       "      <td>-0.005937</td>\n",
       "      <td>-0.014180</td>\n",
       "      <td>0.007913</td>\n",
       "      <td>-0.003092</td>\n",
       "      <td>0.006261</td>\n",
       "      <td>1.000000</td>\n",
       "      <td>0.004946</td>\n",
       "      <td>0.000277</td>\n",
       "      <td>-0.015458</td>\n",
       "      <td>-0.013131</td>\n",
       "      <td>-0.022859</td>\n",
       "      <td>0.018173</td>\n",
       "      <td>-0.010594</td>\n",
       "      <td>0.002309</td>\n",
       "      <td>-0.007654</td>\n",
       "      <td>0.027163</td>\n",
       "      <td>-0.027266</td>\n",
       "    </tr>\n",
       "    <tr>\n",
       "      <th>avg_glucose_level</th>\n",
       "      <td>0.001092</td>\n",
       "      <td>-0.054580</td>\n",
       "      <td>0.238171</td>\n",
       "      <td>0.174474</td>\n",
       "      <td>0.161857</td>\n",
       "      <td>-0.155068</td>\n",
       "      <td>0.004946</td>\n",
       "      <td>1.000000</td>\n",
       "      <td>0.166876</td>\n",
       "      <td>0.131945</td>\n",
       "      <td>0.013845</td>\n",
       "      <td>-0.014675</td>\n",
       "      <td>0.016588</td>\n",
       "      <td>0.062694</td>\n",
       "      <td>-0.102250</td>\n",
       "      <td>0.068111</td>\n",
       "      <td>-0.068501</td>\n",
       "      <td>0.017646</td>\n",
       "    </tr>\n",
       "    <tr>\n",
       "      <th>bmi</th>\n",
       "      <td>0.005555</td>\n",
       "      <td>0.026310</td>\n",
       "      <td>0.324296</td>\n",
       "      <td>0.158293</td>\n",
       "      <td>0.036916</td>\n",
       "      <td>-0.334911</td>\n",
       "      <td>0.000277</td>\n",
       "      <td>0.166876</td>\n",
       "      <td>1.000000</td>\n",
       "      <td>0.036110</td>\n",
       "      <td>0.077856</td>\n",
       "      <td>-0.028327</td>\n",
       "      <td>0.203886</td>\n",
       "      <td>0.070160</td>\n",
       "      <td>-0.442102</td>\n",
       "      <td>0.103533</td>\n",
       "      <td>-0.148448</td>\n",
       "      <td>0.084392</td>\n",
       "    </tr>\n",
       "    <tr>\n",
       "      <th>stroke</th>\n",
       "      <td>0.006388</td>\n",
       "      <td>-0.009117</td>\n",
       "      <td>0.245257</td>\n",
       "      <td>0.127904</td>\n",
       "      <td>0.134914</td>\n",
       "      <td>-0.108340</td>\n",
       "      <td>-0.015458</td>\n",
       "      <td>0.131945</td>\n",
       "      <td>0.036110</td>\n",
       "      <td>1.000000</td>\n",
       "      <td>0.002677</td>\n",
       "      <td>-0.014882</td>\n",
       "      <td>0.011888</td>\n",
       "      <td>0.062168</td>\n",
       "      <td>-0.083869</td>\n",
       "      <td>0.064556</td>\n",
       "      <td>-0.058931</td>\n",
       "      <td>0.008939</td>\n",
       "    </tr>\n",
       "    <tr>\n",
       "      <th>Govt_job</th>\n",
       "      <td>-0.000016</td>\n",
       "      <td>0.016534</td>\n",
       "      <td>0.130013</td>\n",
       "      <td>0.017685</td>\n",
       "      <td>0.001330</td>\n",
       "      <td>-0.134041</td>\n",
       "      <td>-0.013131</td>\n",
       "      <td>0.013845</td>\n",
       "      <td>0.077856</td>\n",
       "      <td>0.002677</td>\n",
       "      <td>1.000000</td>\n",
       "      <td>-0.025258</td>\n",
       "      <td>-0.444420</td>\n",
       "      <td>-0.167810</td>\n",
       "      <td>-0.151383</td>\n",
       "      <td>0.029686</td>\n",
       "      <td>-0.047051</td>\n",
       "      <td>0.030026</td>\n",
       "    </tr>\n",
       "    <tr>\n",
       "      <th>Never_worked</th>\n",
       "      <td>0.005459</td>\n",
       "      <td>-0.011496</td>\n",
       "      <td>-0.078653</td>\n",
       "      <td>-0.021608</td>\n",
       "      <td>-0.015712</td>\n",
       "      <td>0.090838</td>\n",
       "      <td>-0.022859</td>\n",
       "      <td>-0.014675</td>\n",
       "      <td>-0.028327</td>\n",
       "      <td>-0.014882</td>\n",
       "      <td>-0.025258</td>\n",
       "      <td>1.000000</td>\n",
       "      <td>-0.076081</td>\n",
       "      <td>-0.028728</td>\n",
       "      <td>-0.025915</td>\n",
       "      <td>-0.030095</td>\n",
       "      <td>0.045897</td>\n",
       "      <td>-0.028099</td>\n",
       "    </tr>\n",
       "    <tr>\n",
       "      <th>Private</th>\n",
       "      <td>0.023698</td>\n",
       "      <td>0.032639</td>\n",
       "      <td>0.116534</td>\n",
       "      <td>-0.005413</td>\n",
       "      <td>0.000027</td>\n",
       "      <td>-0.153830</td>\n",
       "      <td>0.018173</td>\n",
       "      <td>0.016588</td>\n",
       "      <td>0.203886</td>\n",
       "      <td>0.011888</td>\n",
       "      <td>-0.444420</td>\n",
       "      <td>-0.076081</td>\n",
       "      <td>1.000000</td>\n",
       "      <td>-0.505475</td>\n",
       "      <td>-0.455992</td>\n",
       "      <td>0.025526</td>\n",
       "      <td>-0.097589</td>\n",
       "      <td>0.100025</td>\n",
       "    </tr>\n",
       "    <tr>\n",
       "      <th>Self-employed</th>\n",
       "      <td>-0.019956</td>\n",
       "      <td>0.025971</td>\n",
       "      <td>0.327989</td>\n",
       "      <td>0.115442</td>\n",
       "      <td>0.086760</td>\n",
       "      <td>-0.192716</td>\n",
       "      <td>-0.010594</td>\n",
       "      <td>0.062694</td>\n",
       "      <td>0.070160</td>\n",
       "      <td>0.062168</td>\n",
       "      <td>-0.167810</td>\n",
       "      <td>-0.028728</td>\n",
       "      <td>-0.505475</td>\n",
       "      <td>1.000000</td>\n",
       "      <td>-0.172180</td>\n",
       "      <td>0.093260</td>\n",
       "      <td>-0.072401</td>\n",
       "      <td>-0.003626</td>\n",
       "    </tr>\n",
       "    <tr>\n",
       "      <th>children</th>\n",
       "      <td>-0.013939</td>\n",
       "      <td>-0.089283</td>\n",
       "      <td>-0.634215</td>\n",
       "      <td>-0.129506</td>\n",
       "      <td>-0.091634</td>\n",
       "      <td>0.544441</td>\n",
       "      <td>0.002309</td>\n",
       "      <td>-0.102250</td>\n",
       "      <td>-0.442102</td>\n",
       "      <td>-0.083869</td>\n",
       "      <td>-0.151383</td>\n",
       "      <td>-0.025915</td>\n",
       "      <td>-0.455992</td>\n",
       "      <td>-0.172180</td>\n",
       "      <td>1.000000</td>\n",
       "      <td>-0.160668</td>\n",
       "      <td>0.256753</td>\n",
       "      <td>-0.165234</td>\n",
       "    </tr>\n",
       "    <tr>\n",
       "      <th>formerly smoked</th>\n",
       "      <td>0.007812</td>\n",
       "      <td>-0.042738</td>\n",
       "      <td>0.236897</td>\n",
       "      <td>0.058853</td>\n",
       "      <td>0.066804</td>\n",
       "      <td>-0.171256</td>\n",
       "      <td>-0.007654</td>\n",
       "      <td>0.068111</td>\n",
       "      <td>0.103533</td>\n",
       "      <td>0.064556</td>\n",
       "      <td>0.029686</td>\n",
       "      <td>-0.030095</td>\n",
       "      <td>0.025526</td>\n",
       "      <td>0.093260</td>\n",
       "      <td>-0.160668</td>\n",
       "      <td>1.000000</td>\n",
       "      <td>-0.655703</td>\n",
       "      <td>-0.195571</td>\n",
       "    </tr>\n",
       "    <tr>\n",
       "      <th>never smoked</th>\n",
       "      <td>-0.007071</td>\n",
       "      <td>0.043294</td>\n",
       "      <td>-0.247307</td>\n",
       "      <td>-0.071503</td>\n",
       "      <td>-0.087775</td>\n",
       "      <td>0.219091</td>\n",
       "      <td>0.027163</td>\n",
       "      <td>-0.068501</td>\n",
       "      <td>-0.148448</td>\n",
       "      <td>-0.058931</td>\n",
       "      <td>-0.047051</td>\n",
       "      <td>0.045897</td>\n",
       "      <td>-0.097589</td>\n",
       "      <td>-0.072401</td>\n",
       "      <td>0.256753</td>\n",
       "      <td>-0.655703</td>\n",
       "      <td>1.000000</td>\n",
       "      <td>-0.612203</td>\n",
       "    </tr>\n",
       "    <tr>\n",
       "      <th>smokes</th>\n",
       "      <td>0.001004</td>\n",
       "      <td>-0.011477</td>\n",
       "      <td>0.073133</td>\n",
       "      <td>0.031240</td>\n",
       "      <td>0.044049</td>\n",
       "      <td>-0.105226</td>\n",
       "      <td>-0.027266</td>\n",
       "      <td>0.017646</td>\n",
       "      <td>0.084392</td>\n",
       "      <td>0.008939</td>\n",
       "      <td>0.030026</td>\n",
       "      <td>-0.028099</td>\n",
       "      <td>0.100025</td>\n",
       "      <td>-0.003626</td>\n",
       "      <td>-0.165234</td>\n",
       "      <td>-0.195571</td>\n",
       "      <td>-0.612203</td>\n",
       "      <td>1.000000</td>\n",
       "    </tr>\n",
       "  </tbody>\n",
       "</table>\n",
       "</div>"
      ],
      "text/plain": [
       "                         id    gender       age  hypertension  heart_disease  \\\n",
       "id                 1.000000 -0.001776  0.003538      0.003550      -0.001296   \n",
       "gender            -0.001776  1.000000  0.027623     -0.021275      -0.085717   \n",
       "age                0.003538  0.027623  1.000000      0.276398       0.263796   \n",
       "hypertension       0.003550 -0.021275  0.276398      1.000000       0.108306   \n",
       "heart_disease     -0.001296 -0.085717  0.263796      0.108306       1.000000   \n",
       "ever_married      -0.013690 -0.029936 -0.679125     -0.164243      -0.114644   \n",
       "Residence_type     0.001403 -0.005937 -0.014180      0.007913      -0.003092   \n",
       "avg_glucose_level  0.001092 -0.054580  0.238171      0.174474       0.161857   \n",
       "bmi                0.005555  0.026310  0.324296      0.158293       0.036916   \n",
       "stroke             0.006388 -0.009117  0.245257      0.127904       0.134914   \n",
       "Govt_job          -0.000016  0.016534  0.130013      0.017685       0.001330   \n",
       "Never_worked       0.005459 -0.011496 -0.078653     -0.021608      -0.015712   \n",
       "Private            0.023698  0.032639  0.116534     -0.005413       0.000027   \n",
       "Self-employed     -0.019956  0.025971  0.327989      0.115442       0.086760   \n",
       "children          -0.013939 -0.089283 -0.634215     -0.129506      -0.091634   \n",
       "formerly smoked    0.007812 -0.042738  0.236897      0.058853       0.066804   \n",
       "never smoked      -0.007071  0.043294 -0.247307     -0.071503      -0.087775   \n",
       "smokes             0.001004 -0.011477  0.073133      0.031240       0.044049   \n",
       "\n",
       "                   ever_married  Residence_type  avg_glucose_level       bmi  \\\n",
       "id                    -0.013690        0.001403           0.001092  0.005555   \n",
       "gender                -0.029936       -0.005937          -0.054580  0.026310   \n",
       "age                   -0.679125       -0.014180           0.238171  0.324296   \n",
       "hypertension          -0.164243        0.007913           0.174474  0.158293   \n",
       "heart_disease         -0.114644       -0.003092           0.161857  0.036916   \n",
       "ever_married           1.000000        0.006261          -0.155068 -0.334911   \n",
       "Residence_type         0.006261        1.000000           0.004946  0.000277   \n",
       "avg_glucose_level     -0.155068        0.004946           1.000000  0.166876   \n",
       "bmi                   -0.334911        0.000277           0.166876  1.000000   \n",
       "stroke                -0.108340       -0.015458           0.131945  0.036110   \n",
       "Govt_job              -0.134041       -0.013131           0.013845  0.077856   \n",
       "Never_worked           0.090838       -0.022859          -0.014675 -0.028327   \n",
       "Private               -0.153830        0.018173           0.016588  0.203886   \n",
       "Self-employed         -0.192716       -0.010594           0.062694  0.070160   \n",
       "children               0.544441        0.002309          -0.102250 -0.442102   \n",
       "formerly smoked       -0.171256       -0.007654           0.068111  0.103533   \n",
       "never smoked           0.219091        0.027163          -0.068501 -0.148448   \n",
       "smokes                -0.105226       -0.027266           0.017646  0.084392   \n",
       "\n",
       "                     stroke  Govt_job  Never_worked   Private  Self-employed  \\\n",
       "id                 0.006388 -0.000016      0.005459  0.023698      -0.019956   \n",
       "gender            -0.009117  0.016534     -0.011496  0.032639       0.025971   \n",
       "age                0.245257  0.130013     -0.078653  0.116534       0.327989   \n",
       "hypertension       0.127904  0.017685     -0.021608 -0.005413       0.115442   \n",
       "heart_disease      0.134914  0.001330     -0.015712  0.000027       0.086760   \n",
       "ever_married      -0.108340 -0.134041      0.090838 -0.153830      -0.192716   \n",
       "Residence_type    -0.015458 -0.013131     -0.022859  0.018173      -0.010594   \n",
       "avg_glucose_level  0.131945  0.013845     -0.014675  0.016588       0.062694   \n",
       "bmi                0.036110  0.077856     -0.028327  0.203886       0.070160   \n",
       "stroke             1.000000  0.002677     -0.014882  0.011888       0.062168   \n",
       "Govt_job           0.002677  1.000000     -0.025258 -0.444420      -0.167810   \n",
       "Never_worked      -0.014882 -0.025258      1.000000 -0.076081      -0.028728   \n",
       "Private            0.011888 -0.444420     -0.076081  1.000000      -0.505475   \n",
       "Self-employed      0.062168 -0.167810     -0.028728 -0.505475       1.000000   \n",
       "children          -0.083869 -0.151383     -0.025915 -0.455992      -0.172180   \n",
       "formerly smoked    0.064556  0.029686     -0.030095  0.025526       0.093260   \n",
       "never smoked      -0.058931 -0.047051      0.045897 -0.097589      -0.072401   \n",
       "smokes             0.008939  0.030026     -0.028099  0.100025      -0.003626   \n",
       "\n",
       "                   children  formerly smoked  never smoked    smokes  \n",
       "id                -0.013939         0.007812     -0.007071  0.001004  \n",
       "gender            -0.089283        -0.042738      0.043294 -0.011477  \n",
       "age               -0.634215         0.236897     -0.247307  0.073133  \n",
       "hypertension      -0.129506         0.058853     -0.071503  0.031240  \n",
       "heart_disease     -0.091634         0.066804     -0.087775  0.044049  \n",
       "ever_married       0.544441        -0.171256      0.219091 -0.105226  \n",
       "Residence_type     0.002309        -0.007654      0.027163 -0.027266  \n",
       "avg_glucose_level -0.102250         0.068111     -0.068501  0.017646  \n",
       "bmi               -0.442102         0.103533     -0.148448  0.084392  \n",
       "stroke            -0.083869         0.064556     -0.058931  0.008939  \n",
       "Govt_job          -0.151383         0.029686     -0.047051  0.030026  \n",
       "Never_worked      -0.025915        -0.030095      0.045897 -0.028099  \n",
       "Private           -0.455992         0.025526     -0.097589  0.100025  \n",
       "Self-employed     -0.172180         0.093260     -0.072401 -0.003626  \n",
       "children           1.000000        -0.160668      0.256753 -0.165234  \n",
       "formerly smoked   -0.160668         1.000000     -0.655703 -0.195571  \n",
       "never smoked       0.256753        -0.655703      1.000000 -0.612203  \n",
       "smokes            -0.165234        -0.195571     -0.612203  1.000000  "
      ]
     },
     "execution_count": 173,
     "metadata": {},
     "output_type": "execute_result"
    }
   ],
   "source": [
    "corr_mat = data_raw.corr()\n",
    "corr_mat"
   ]
  },
  {
   "cell_type": "code",
   "execution_count": 176,
   "id": "6f94e45d",
   "metadata": {},
   "outputs": [
    {
     "data": {
      "image/png": "[encoded data removed]",
      "text/plain": [
       "<Figure size 432x288 with 2 Axes>"
      ]
     },
     "metadata": {
      "needs_background": "light"
     },
     "output_type": "display_data"
    }
   ],
   "source": [
    "sns.heatmap(corr_mat, square=True, vmin = -1, vmax = 1, cmap ='coolwarm')\n",
    "pass"
   ]
  },
  {
   "cell_type": "markdown",
   "id": "412769dc",
   "metadata": {},
   "source": [
    "Из обновленной матрицы корреляции видно, что наличие инсульта у пациента не зависит от пола и места проживания. Чаще инсульт встречается у самозанятых, а также курящих и куривших прежде"
   ]
  },
  {
   "cell_type": "markdown",
   "id": "8482eb71",
   "metadata": {},
   "source": [
    "# 6. Разбиение данных на учебную и тестовую выборки"
   ]
  },
  {
   "cell_type": "code",
   "execution_count": 252,
   "id": "950babd3",
   "metadata": {},
   "outputs": [
    {
     "data": {
      "text/plain": [
       "((3832, 17), (1278, 17))"
      ]
     },
     "execution_count": 252,
     "metadata": {},
     "output_type": "execute_result"
    }
   ],
   "source": [
    "y = data_raw['stroke']\n",
    "X = data_raw.drop(['stroke'], axis = 1)\n",
    "from sklearn. model_selection import train_test_split\n",
    "X_train, X_test, y_train, y_test = train_test_split(X, y, test_size = 0.25, stratify = y, random_state = 42)\n",
    "X_train.shape, X_test.shape"
   ]
  },
  {
   "cell_type": "markdown",
   "id": "9de398e2",
   "metadata": {},
   "source": [
    "# 7. Классификатор ближайших соседей"
   ]
  },
  {
   "cell_type": "code",
   "execution_count": 253,
   "id": "171b8cdf",
   "metadata": {},
   "outputs": [
    {
     "data": {
      "text/plain": [
       "KNeighborsClassifier(n_neighbors=10, p=1)"
      ]
     },
     "execution_count": 253,
     "metadata": {},
     "output_type": "execute_result"
    }
   ],
   "source": [
    "from sklearn.neighbors import KNeighborsClassifier\n",
    "model = KNeighborsClassifier (n_neighbors = 10, p = 1)\n",
    "model.fit(X_train, y_train)"
   ]
  },
  {
   "cell_type": "markdown",
   "id": "d18502bd",
   "metadata": {},
   "source": [
    "# 8. Вычисление ошибки на обучающей и тестовой выборках"
   ]
  },
  {
   "cell_type": "code",
   "execution_count": 254,
   "id": "b3fe25e0",
   "metadata": {},
   "outputs": [],
   "source": [
    "y_train_pred = model.predict(X_train)\n",
    "y_test_pred = model.predict(X_test)"
   ]
  },
  {
   "cell_type": "markdown",
   "id": "166a1b90",
   "metadata": {},
   "source": [
    "Вычисление ошибки на обучающей выборке:"
   ]
  },
  {
   "cell_type": "code",
   "execution_count": 255,
   "id": "0a193a4f",
   "metadata": {},
   "outputs": [
    {
     "data": {
      "text/plain": [
       "0.04879958246346555"
      ]
     },
     "execution_count": 255,
     "metadata": {},
     "output_type": "execute_result"
    }
   ],
   "source": [
    "np.mean(y_train != y_train_pred)"
   ]
  },
  {
   "cell_type": "markdown",
   "id": "786e34ed",
   "metadata": {},
   "source": [
    "Вычисление ошибки на тестовой выборке:"
   ]
  },
  {
   "cell_type": "code",
   "execution_count": 256,
   "id": "8a835432",
   "metadata": {},
   "outputs": [
    {
     "data": {
      "text/plain": [
       "0.048513302034428794"
      ]
     },
     "execution_count": 256,
     "metadata": {},
     "output_type": "execute_result"
    }
   ],
   "source": [
    "np.mean(y_test != y_test_pred)"
   ]
  },
  {
   "cell_type": "code",
   "execution_count": 257,
   "id": "89379e3b",
   "metadata": {},
   "outputs": [
    {
     "data": {
      "image/png": "[encoded data removed]",
      "text/plain": [
       "<Figure size 432x288 with 2 Axes>"
      ]
     },
     "metadata": {
      "needs_background": "light"
     },
     "output_type": "display_data"
    }
   ],
   "source": [
    "from sklearn.metrics import plot_confusion_matrix\n",
    "plot_confusion_matrix(model, X_test, y_test, cmap = plt.cm.Blues)\n",
    "pass"
   ]
  },
  {
   "cell_type": "markdown",
   "id": "8bc04a6e",
   "metadata": {},
   "source": [
    "Согласно методу ближайших соседей, 1216 пациентов из тестовой выборки предположительно не имели инсульта и его действительно не было; 0 пациентов из тестовой выборки предположительно имели инсульт и он действительно был; 0 пациентов из тестовой выборки предположительно имели инсульт, но на самом деле его не было; 62 пациента предположительно не имели инсульта, но на самом деле он был."
   ]
  },
  {
   "cell_type": "markdown",
   "id": "414f80a0",
   "metadata": {},
   "source": [
    "# 8. Random Forest"
   ]
  },
  {
   "cell_type": "code",
   "execution_count": 293,
   "id": "66262c2b",
   "metadata": {},
   "outputs": [
    {
     "name": "stdout",
     "output_type": "stream",
     "text": [
      "Ошибка на тренировочной выборке:  0.0  Ошибка на тестовой выборке:  0.04929577464788732\n"
     ]
    }
   ],
   "source": [
    "from sklearn import ensemble\n",
    "rf = ensemble.RandomForestClassifier(n_estimators = 1000)\n",
    "rf.fit(X_train, y_train)\n",
    "\n",
    "err_train = np.mean(y_train != rf.predict(X_train))\n",
    "err_test  = np.mean(y_test  != rf.predict(X_test))\n",
    "\n",
    "print('Ошибка на тренировочной выборке: ', err_train, ' Ошибка на тестовой выборке: ', err_test)"
   ]
  },
  {
   "cell_type": "code",
   "execution_count": 291,
   "id": "1b0609bf",
   "metadata": {},
   "outputs": [
    {
     "data": {
      "image/png": "[encoded data removed]",
      "text/plain": [
       "<Figure size 432x288 with 2 Axes>"
      ]
     },
     "metadata": {
      "needs_background": "light"
     },
     "output_type": "display_data"
    }
   ],
   "source": [
    "from sklearn.metrics import plot_confusion_matrix\n",
    "plot_confusion_matrix(rf, X_test, y_test, cmap = plt.cm.Blues)\n",
    "pass"
   ]
  },
  {
   "cell_type": "markdown",
   "id": "9679c96f",
   "metadata": {},
   "source": [
    "Согласно методу случайного леса, 1215 пациентов из тестовой выборки предположительно не имели инсульта и его действительно не было; 0 пациентов из тестовой выборки предположительно имели инсульт и он действительно был; 1 пациент из тестовой выборки предположительно имел инсульт, но на самом деле его не было; 62 пациента предположительно не имели инсульта, но на самом деле он был."
   ]
  }
 ],
 "metadata": {
  "kernelspec": {
   "display_name": "Python 3 (ipykernel)",
   "language": "python",
   "name": "python3"
  },
  "language_info": {
   "codemirror_mode": {
    "name": "ipython",
    "version": 3
   },
   "file_extension": ".py",
   "mimetype": "text/x-python",
   "name": "python",
   "nbconvert_exporter": "python",
   "pygments_lexer": "ipython3",
   "version": "3.9.7"
  }
 },
 "nbformat": 4,
 "nbformat_minor": 5
}
